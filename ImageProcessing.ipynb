{
  "nbformat": 4,
  "nbformat_minor": 0,
  "metadata": {
    "colab": {
      "provenance": [],
      "authorship_tag": "ABX9TyM0H7O550U2dgxAOMBxemzb",
      "include_colab_link": true
    },
    "kernelspec": {
      "name": "python3",
      "display_name": "Python 3"
    },
    "language_info": {
      "name": "python"
    }
  },
  "cells": [
    {
      "cell_type": "markdown",
      "metadata": {
        "id": "view-in-github",
        "colab_type": "text"
      },
      "source": [
        "<a href=\"https://colab.research.google.com/github/KaabiTaoufik/ImageProcessing/blob/main/ImageProcessing.ipynb\" target=\"_parent\"><img src=\"https://colab.research.google.com/assets/colab-badge.svg\" alt=\"Open In Colab\"/></a>"
      ]
    },
    {
      "cell_type": "code",
      "execution_count": 121,
      "metadata": {
        "colab": {
          "base_uri": "https://localhost:8080/"
        },
        "id": "mt_H6xGzi3pG",
        "outputId": "467fb6b4-c20b-411d-ee5e-02d2c299a2e6"
      },
      "outputs": [
        {
          "output_type": "stream",
          "name": "stdout",
          "text": [
            "Drive already mounted at /content/drive; to attempt to forcibly remount, call drive.mount(\"/content/drive\", force_remount=True).\n"
          ]
        }
      ],
      "source": [
        "from google.colab import drive\n",
        "import numpy as np\n",
        "import matplotlib.pyplot as plt\n",
        "from scipy import stats\n",
        "from PIL import Image\n",
        "import matplotlib.image\n",
        "drive.mount('/content/drive')"
      ]
    },
    {
      "cell_type": "code",
      "source": [
        "imageFilePath = '/content/drive/MyDrive/imageProcessing/chat.pgm'\n",
        "def read_pgm(pgmf):\n",
        "   header = pgmf.readline()\n",
        "   fileType = header.split()[0]\n",
        "   header = pgmf.readline()\n",
        "   header = pgmf.readline()\n",
        "   (width, height) = [int(i) for i in header.split()[0:2]]\n",
        "   header = pgmf.readline()\n",
        "   maxVal = int(header.split()[0])\n",
        "   matrix = []\n",
        "   for y in range(height):\n",
        "       row = [int(i) for i in pgmf.readline().split()]\n",
        "       matrix.append(row)\n",
        "   return (matrix, height, width, maxVal, fileType)\n",
        "\n",
        "f = open(imageFilePath, 'rb')\n",
        "im = read_pgm(f)\n",
        "f.close()\n",
        "(im, lx, ly , maxVal, fileType) = np.array(im)"
      ],
      "metadata": {
        "colab": {
          "base_uri": "https://localhost:8080/"
        },
        "id": "ag5XuK68osOs",
        "outputId": "3206f8b1-3e47-4947-b8e0-e76875e440f0"
      },
      "execution_count": 122,
      "outputs": [
        {
          "output_type": "stream",
          "name": "stderr",
          "text": [
            "/usr/local/lib/python3.7/dist-packages/ipykernel_launcher.py:19: VisibleDeprecationWarning: Creating an ndarray from ragged nested sequences (which is a list-or-tuple of lists-or-tuples-or ndarrays with different lengths or shapes) is deprecated. If you meant to do this, you must specify 'dtype=object' when creating the ndarray.\n"
          ]
        }
      ]
    },
    {
      "cell_type": "code",
      "source": [
        "mean = np.mean(im)\n",
        "print(\"mean : \", mean)"
      ],
      "metadata": {
        "colab": {
          "base_uri": "https://localhost:8080/"
        },
        "id": "bf8huKC2uTVw",
        "outputId": "d7211814-5cca-4a22-90cf-f572bb28f145"
      },
      "execution_count": 123,
      "outputs": [
        {
          "output_type": "stream",
          "name": "stdout",
          "text": [
            "mean :  85.43944010416666\n"
          ]
        }
      ]
    },
    {
      "cell_type": "code",
      "source": [
        "a = im\n",
        "hist, bins = np.histogram(a, bins=maxVal)\n",
        "print()\n",
        "print (hist)\n",
        "print()\n",
        "\n",
        "# Creating plot  #uncomment to show plot ( very slow due to size being 255)\n",
        "#fig = plt.figure(figsize =(10, 7))\n",
        "#plt.hist(a, bins = maxVal)\n",
        "#plt.title(\"chat histogram\")\n",
        "#plt.show()"
      ],
      "metadata": {
        "colab": {
          "base_uri": "https://localhost:8080/"
        },
        "id": "fxNty17xxF-n",
        "outputId": "71416c9e-a6db-4448-e2be-f5e23eeb22dd"
      },
      "execution_count": 124,
      "outputs": [
        {
          "output_type": "stream",
          "name": "stdout",
          "text": [
            "\n",
            "[2026 3623 2663 2783 1735  848 1326 1794  765  490  412  369  362  297\n",
            "  305  247  280  289  281  266  271  265  281  298  272  292  299  321\n",
            "  277  315  300  305  329  316  327  326  399  352  356  374  387  377\n",
            "  382  406  366  376  407  360  343  389  352  424  374  316  337  357\n",
            "  337  343  321  261  316  284  332  244  291  276  264  288  252  257\n",
            "  251  264  230  202  227  237  227  240  231  230  203  222  222  225\n",
            "  220  220  235  197  224  212  211  223  241  231  222  230  237  211\n",
            "  263  223  254  253  248  269  264  249  260  245  227  256  249  264\n",
            "  248  273  257  283  281  275  269  301  277  275  256  286  284  275\n",
            "  291  307  312  296  330  279  320  324  298  334  320  345  337  323\n",
            "  304  310  341  323  305  324  304  303  316  337  287  330  297  323\n",
            "  333  366  298  353  370  330  328  356  338  316  358  369  297  344\n",
            "  281  302  309  303  320  323  280  316  247  255  289  268  253  252\n",
            "  255  210  246  234  255  234  210  223  199  193  201  156  174  154\n",
            "  153  165  146  151  138  106  121  120  125  120  130  103   95  119\n",
            "  104   90  106  115   81   95   92   85   74   81   79   60   67   58\n",
            "   70   55   57   58   73   48   61   68   74   65   75   41   50   41\n",
            "   49   47   56   55   52   48   35   56   41   38   43   56   51   50\n",
            "   63  126  457]\n",
            "\n"
          ]
        }
      ]
    },
    {
      "cell_type": "code",
      "source": [
        "def writePGM(lx, ly, maxVal, matrix):\n",
        "  # define the width  (columns) and height (rows) of your image\n",
        "  height = lx\n",
        "  width = ly\n",
        "  p_num = width * height\n",
        "\n",
        "  # open file for writing \n",
        "  filename = '/content/drive/MyDrive/imageProcessing/test.pgm'\n",
        "  fout=open(filename, 'wb')\n",
        "\n",
        "  # define PGM Header\n",
        "  pgmHeader = 'P2' + '\\n'\n",
        "\n",
        "  pgmHeader_byte = bytearray(pgmHeader,'utf-16')\n",
        "\n",
        "  # write the header to the file\n",
        "  fout.write(pgmHeader_byte)\n",
        "\n",
        "  pgmComment = '# ' + filename + ' ' + 'nbre de lignes :' + str(height) + ' nbre de collones :' + str(width) +'\\n'\n",
        "  pgmComment_byte = bytearray(pgmComment,'utf-16')\n",
        "  fout.write(pgmComment_byte)\n",
        "  # write the data to the file \n",
        "\n",
        "  heightAndWidth = str(width) + ' ' + str(height) + '\\n'\n",
        "  heightAndWidth_byte = bytearray(heightAndWidth,'utf-16')\n",
        "  fout.write(heightAndWidth_byte)\n",
        "\n",
        "  maxVal = str(maxVal) + '\\n'\n",
        "  maxVal_byte = bytearray(maxVal,'utf-16')\n",
        "  fout.write(maxVal_byte)\n",
        "\n",
        "  for j in range(height):\n",
        "      bnd = ' '.join(map(str,list(im[j]))) + '\\n'\n",
        "      fout.write(bytearray(bnd,'utf-16'))\n",
        "\n",
        "  fout.close()"
      ],
      "metadata": {
        "id": "7eOTmoZFyjed"
      },
      "execution_count": 125,
      "outputs": []
    },
    {
      "cell_type": "code",
      "source": [
        "def saveImage(matrix, imageName):\n",
        "  matplotlib.image.imsave('/content/drive/MyDrive/imageProcessing/'+ str(imageName) + '.jpeg', matrix)"
      ],
      "metadata": {
        "id": "v-xlnrGF2LTD"
      },
      "execution_count": 128,
      "outputs": []
    },
    {
      "cell_type": "code",
      "source": [],
      "metadata": {
        "id": "HpRKLVGQ5-NC"
      },
      "execution_count": 130,
      "outputs": []
    }
  ]
}